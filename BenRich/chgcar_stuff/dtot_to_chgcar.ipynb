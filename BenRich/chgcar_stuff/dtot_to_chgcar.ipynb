{
 "cells": [
  {
   "cell_type": "code",
   "execution_count": 1,
   "metadata": {
    "collapsed": true
   },
   "outputs": [],
   "source": [
    "import funcs\n",
    "import os\n",
    "os.chdir('D://scratch_backup//alpine//beri9208//mnc-pt-pyrid//calcs//surfs//4n//No_bias')"
   ]
  },
  {
   "cell_type": "code",
   "execution_count": 2,
   "outputs": [],
   "source": [
    "# Feel free to use the savedir option, but it appears that the os.chdir function trumps this option\n",
    "# and will always end up saving to whatever directory you saved to.\n",
    "# If your JDFTx calculation was not spin polarized (only have an n file, not n_up and n_dn) just give\n",
    "# your 'n' file for both the n_up and n_dn fields and change noncollin to True\n",
    "funcs.chgcar_out('n_up', 'n_dn', 'out', noncollin=False, savedir='C://Users//User//Desktop//', chgcar_name='CHGCAR_normed2')\n",
    "# the 'pc' boolean just changes how many slashes to put between the directory path and the chgcar file name"
   ],
   "metadata": {
    "collapsed": false
   }
  }
 ],
 "metadata": {
  "kernelspec": {
   "display_name": "Python 3",
   "language": "python",
   "name": "python3"
  },
  "language_info": {
   "codemirror_mode": {
    "name": "ipython",
    "version": 2
   },
   "file_extension": ".py",
   "mimetype": "text/x-python",
   "name": "python",
   "nbconvert_exporter": "python",
   "pygments_lexer": "ipython2",
   "version": "2.7.6"
  }
 },
 "nbformat": 4,
 "nbformat_minor": 0
}
