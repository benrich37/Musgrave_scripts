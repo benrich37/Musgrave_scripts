{
 "cells": [
  {
   "cell_type": "code",
   "execution_count": 3,
   "metadata": {
    "collapsed": true
   },
   "outputs": [],
   "source": [
    "import numpy as np\n",
    "import funcs\n",
    "import os\n",
    "os.chdir('D://scratch_backup//alpine//beri9208//mnc-pt-pyrid//calcs//surfs//4n//No_bias')"
   ]
  },
  {
   "cell_type": "code",
   "execution_count": 2,
   "outputs": [],
   "source": [
    "# Feel free to use the savedir option, but it appears that the os.chdir function trumps this option\n",
    "# and will always end up saving to whatever directory you saved to.\n",
    "# If your JDFTx calculation was not spin polarized (only have an n file, not n_up and n_dn) just give\n",
    "# your 'n' file for both the n_up and n_dn fields and change noncollin to True\n",
    "funcs.chgcar_out('n_up', 'n_dn', 'out', noncollin=False, savedir='C://Users//User//Desktop//', chgcar_name='CHGCAR_normed2')\n",
    "# the 'pc' boolean just changes how many slashes to put between the directory path and the chgcar file name"
   ],
   "metadata": {
    "collapsed": false
   }
  },
  {
   "cell_type": "code",
   "execution_count": null,
   "outputs": [],
   "source": [
    "def chgcar_out(n_up, n_dn, out_path, chgcar_name='CHGCAR', savedir=None, pc=True, noncollin=False):\n",
    "    # Get required variables\n",
    "    # dtot = np.abs(np.fromfile(n_up))\n",
    "    # dtot += np.abs(np.fromfile(n_dn))\n",
    "    dtot = np.fromfile(n_up)\n",
    "    dtot += np.fromfile(n_dn)\n",
    "    if noncollin:\n",
    "        dtot = dtot/2.\n",
    "    S = funcs.get_grid_shape(out_path)\n",
    "    ionPos, ionNames, R = funcs.get_coords_vars(out_path)\n",
    "    # R *= 0.529177 # Convert to Angstroms\n",
    "    R_inv = R.T\n",
    "    dtot *= np.dot(R_inv[0], np.cross(R_inv[1], R_inv[2]))\n",
    "    ion_names, ion_counts = funcs.count_ions(ionNames)\n",
    "    # Make sure the shapes match up\n",
    "    try:\n",
    "        dtot = np.reshape(dtot, S)\n",
    "        dtot = dtot.flatten(order='F')\n",
    "    except ValueError:\n",
    "        print('Error: Ben here! the get_grid_shape function got a shape from your out file that was incompatible with the given d_tot file. Double check and make sure they\\'re both from the same calculation, or slack me for help')\n",
    "    # Write lattice information\n",
    "    out_str = 'fake_chgcar \\n'\n",
    "    out_str += '   1.0 \\n'\n",
    "    for i in range(3):\n",
    "        out_str += ' '\n",
    "        for j in range(3):\n",
    "            out_str += '    '\n",
    "            out_str += funcs.fmt_num_1(R[i][j])\n",
    "        out_str += ' \\n'\n",
    "    # Write ion information\n",
    "    for name in ion_names:\n",
    "        out_str += '   '\n",
    "        out_str += name\n",
    "    out_str += ' \\n'\n",
    "    for count in ion_counts:\n",
    "        out_str += '     '\n",
    "        out_str += str(count)\n",
    "    out_str += ' \\n'\n",
    "    out_str += 'Direct \\n'\n",
    "    for pos in ionPos:\n",
    "        for p in pos:\n",
    "            out_str += '  '\n",
    "            out_str += funcs.fmt_num_1(p)\n",
    "        out_str += ' \\n'\n",
    "    out_str += '\\n' # Write empty line (?)\n",
    "    # Write grid shape\n",
    "    for length in S:\n",
    "        out_str += '   '\n",
    "        out_str += str(length)\n",
    "    out_str += ' \\n'\n",
    "    ticker = 0\n",
    "    for dens in dtot:\n",
    "        out_str += ' '\n",
    "        out_str += funcs.fmt_num_2(dens)\n",
    "        out_str += '\\t'\n",
    "        if ticker >= 4:\n",
    "            out_str += ' \\n'\n",
    "            ticker = 0\n",
    "        else:\n",
    "            ticker += 1\n",
    "    out_str += ' \\n'\n",
    "    # Write chgcar\n",
    "    savepath = ''\n",
    "    if savedir is not None:\n",
    "        savepath += savedir\n",
    "    if pc:\n",
    "        savepath += '//'\n",
    "    else:\n",
    "        savepath += '/'\n",
    "    savepath += chgcar_name\n",
    "    with open(chgcar_name, 'w') as chgcarfile:\n",
    "        chgcarfile.write(out_str)"
   ],
   "metadata": {
    "collapsed": false
   }
  },
  {
   "cell_type": "code",
   "execution_count": 4,
   "outputs": [
    {
     "data": {
      "text/plain": "2"
     },
     "execution_count": 4,
     "metadata": {},
     "output_type": "execute_result"
    }
   ],
   "source": [
    "7 % 5"
   ],
   "metadata": {
    "collapsed": false
   }
  },
  {
   "cell_type": "code",
   "execution_count": null,
   "outputs": [],
   "source": [
    "for i in range(20):"
   ],
   "metadata": {
    "collapsed": false
   }
  }
 ],
 "metadata": {
  "kernelspec": {
   "display_name": "Python 3",
   "language": "python",
   "name": "python3"
  },
  "language_info": {
   "codemirror_mode": {
    "name": "ipython",
    "version": 2
   },
   "file_extension": ".py",
   "mimetype": "text/x-python",
   "name": "python",
   "nbconvert_exporter": "python",
   "pygments_lexer": "ipython2",
   "version": "2.7.6"
  }
 },
 "nbformat": 4,
 "nbformat_minor": 0
}
