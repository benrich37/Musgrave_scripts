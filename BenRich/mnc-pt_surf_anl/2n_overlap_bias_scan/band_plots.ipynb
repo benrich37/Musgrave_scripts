{
 "cells": [
  {
   "cell_type": "code",
   "execution_count": 2,
   "outputs": [],
   "source": [
    "import sys\n",
    "sys.path.append(\"C://Users//User//PycharmProjects//Musgrave_scripts//BenRich//common_funcs\")\n",
    "import cohpfuncs as cfunc\n",
    "import jdftxfuncs as jfunc\n",
    "#data_dir = \"E://perl//pscratch//beri9208//pot_scan//PtPyrOpt150//\"\n",
    "data_dir = \"D://scratch_backup//perl//pot_scan//AuPyrOpt//\"\n",
    "data_label = data_dir.split(\"//\")[-2]\n",
    "import numpy as np\n",
    "import matplotlib.pyplot as plt\n",
    "import time\n",
    "import os\n",
    "from numba import jit\n",
    "savedir = \"C://Users//User//Desktop//pcoop_plots//bandwise//\"\n",
    "data_prefix = \"output.\"\n",
    "\n",
    "def app_dir(surf_idx, mu_idx):\n",
    "    \"\"\"\n",
    "    :param surf_idx: 0 --> 2n-cis, 1 --> 2n-trans\n",
    "    :param mu_idx: 0 --> No_bias, -1 --> dneg/1, 1 --> 2pos/1\n",
    "    :return:\n",
    "    \"\"\"\n",
    "    out_str = surf_labels[surf_idx] + \"//\"\n",
    "    if mu_idx == 0:\n",
    "        out_str += \"No_bias//\"\n",
    "    else:\n",
    "        if mu_idx > 0:\n",
    "            out_str += \"dpos//\"\n",
    "        else:\n",
    "            out_str += \"dneg//\"\n",
    "        out_str += str(int(abs(mu_idx))) + \"//\"\n",
    "    return data_dir + out_str\n",
    "\n",
    "surf_labels = [\"2n-cis\", \"2n-trans\", \"3n\", \"4n\"]\n",
    "bias_labels = [\"-0.3V\", \"0.0V\", \"0.3V\", \"0.6\", \"0.9V\", \"1.2V\", \"1.5V\", \"1.8V\", \"-2.4V\", \"-2.1V\", \"-1.8V\", \"-1.5V\", \"-1.2V\", \"-0.9V\", \"-0.6V\"]\n",
    "bidrange = [-7, -6, -5, -4, -3, -2, -1, 0, 1, 2, 3, 4, 5, 6, 7]\n",
    "bshift = int(np.floor(len(bidrange)/2.))\n",
    "nbids = len(bidrange)\n",
    "ncalcs = nbids*2\n",
    "\n",
    "def gen_dirname(surf_idx, bias_idx):\n",
    "    slabel = surf_labels[surf_idx]\n",
    "    out_str = save_dir + slabel + str(bias_idx)\n",
    "    out_str += '//'\n",
    "    return out_str\n",
    "\n",
    "def gen_savedirname(surf_idx, savedir):\n",
    "    slabel = surf_labels[surf_idx]\n",
    "    out_str = savedir + slabel\n",
    "    out_str += '//'\n",
    "    return out_str\n",
    "\n",
    "def setupdir(dirname):\n",
    "    try:\n",
    "        os.mkdir(dirname)\n",
    "    except:\n",
    "        None\n",
    "setupdir(savedir)\n",
    "\n",
    "\n",
    "def gen_savename(surf_idx, bias_idx, j):\n",
    "    out_str = str(j) + \"_\" + str(bias_idx) +  surf_labels[surf_idx]\n",
    "    return out_str\n",
    "\n",
    "def gen_title(surf_idx, bias_idx, j):\n",
    "    out_str = str(j) + \" \" + bias_labels[bias_idx - bshift] + \" \" +  surf_labels[surf_idx]\n",
    "    return out_str\n",
    "\n",
    "@jit(nopython=True)\n",
    "def lb_idx(Emin, dE, sample):\n",
    "    a = sample-Emin\n",
    "    b = a/dE\n",
    "    c = int(np.floor(b))\n",
    "    return c, abs(b-c)\n",
    "\n",
    "def get_ebounds(surf_idcs, bias_idcs):\n",
    "    minE = 0\n",
    "    maxE = 0\n",
    "    for sidx in surf_idcs:\n",
    "        for bidx in bias_idcs:\n",
    "            output = cfunc.parse_data(app_dir(sidx, bidx) + data_prefix + \"bandProjections\", app_dir(sidx, bidx) + data_prefix + \"Gvectors\", app_dir(sidx, bidx) + data_prefix + \"eigenvals\")\n",
    "            minE = min(minE, np.min(np.real(output[-1])))\n",
    "            maxE = max(maxE, np.min(np.real(output[-1])))\n",
    "    return minE, maxE\n",
    "\n",
    "def get_erange(surf_idcs, bias_idcs, dE):\n",
    "    minE, maxE = get_ebounds(surf_idcs, bias_idcs)\n",
    "    minE += -5*dE\n",
    "    maxE += 5*dE\n",
    "    return np.arange(minE, maxE, dE)\n",
    "\n",
    "@jit(nopython=True)\n",
    "def get_overlap_matrix_plottable_smear_helper(ejk, height, Erange, outij, dE, sw):\n",
    "    a = ejk - min(Erange)\n",
    "    b = a / dE\n",
    "    idx = int(np.floor(b))\n",
    "    for i in range(sw*5 + 1):\n",
    "        act = idx + i - sw\n",
    "        outij[act] += height*np.exp(-((Erange[act] - ejk)**2)/(sw*dE))\n",
    "\n",
    "@jit(nopython=True)\n",
    "def fiterable(orbi, orbj, nk, nj, E, proj, out, wk, Erange, dE, sw, i, j):\n",
    "    for u1 in orbi:\n",
    "            if u1 > 0:\n",
    "                for v1 in orbj:\n",
    "                    if v1 > 0:\n",
    "                        for ik in range(nk):\n",
    "                            for ij in range(nj):\n",
    "                                ejk = E[ik][ij]\n",
    "                                t1 = proj[ik][ij][u1]\n",
    "                                t2 = proj[ik][ij][v1]\n",
    "                                t1_conj = t1.real - t1.imag * 1j\n",
    "                                height = np.real(t1_conj * t2 * wk[ik])\n",
    "                                get_overlap_matrix_plottable_smear_helper(ejk, height, Erange, out[i,j], dE, sw)\n",
    "\n",
    "@jit(nopython=True)\n",
    "def get_overlap_matrix_plottable_smear(proj, E, wk, orbs_sample, nk, nj, out, Erange, dE, sw):\n",
    "    # Fix me eventually\n",
    "    # print('starting2')\n",
    "    for ii in list(range(len(orbs_sample))):\n",
    "        if ii == 37:\n",
    "            for jj in range(len(orbs_sample)):\n",
    "                if jj == 40:\n",
    "                    orbi = orbs_sample[ii]\n",
    "                    orbj = orbs_sample[jj]\n",
    "                    fiterable(orbi, orbj, nk, nj, E, proj, out, wk, Erange, dE, sw, ii, jj)\n",
    "        else:\n",
    "            for jj in range(len(orbs_sample)):\n",
    "                orbi = orbs_sample[ii]\n",
    "                orbj = orbs_sample[jj]\n",
    "                fiterable(orbi, orbj, nk, nj, E, proj, out, wk, Erange, dE, sw, ii, jj)\n",
    "    return out\n",
    "\n",
    "@jit(nopython=True)\n",
    "def get_band_vector_nosmear_helper(ejk, height, Erange, outij, dE):\n",
    "    a = ejk - min(Erange)\n",
    "    b = a / dE\n",
    "    idx = int(np.floor(b))\n",
    "    spill = abs(b-idx)\n",
    "    outij[idx] += height*(1 - spill)\n",
    "    outij[idx+1] += height*spill\n",
    "\n",
    "@jit(nopython=True)\n",
    "def get_band_vector_plottable_nosmear(E, wk, nk, nj, out, Erange, dE):\n",
    "    for ij in range(nj):\n",
    "        for ik in range(nk):\n",
    "            ejk = E[ik][ij]\n",
    "            height = wk[ik]\n",
    "            get_band_vector_nosmear_helper(ejk, height, Erange, out[ij], dE)\n",
    "    return out\n",
    "\n",
    "\n",
    "@jit(nopython=True)\n",
    "def get_plot_stuff(sidx, bidx, j, ndatum):\n",
    "    dlook = ndatum[sidx][bidx]\n",
    "    y = np.real(dlook[j])\n",
    "    return y\n",
    "\n",
    "def system_bandwise_plottable(surf_idx, bias_idx, Erange, dE):\n",
    "    proj, nStates, nBands, nProj, nOrbsPerAtom, wk, k_points, E = cfunc.parse_data(\n",
    "        app_dir(surf_idx, bias_idx) + data_prefix + \"bandProjections\",\n",
    "        app_dir(surf_idx, bias_idx) + data_prefix + \"Gvectors\",\n",
    "        app_dir(surf_idx, bias_idx) + data_prefix + \"eigenvals\")\n",
    "    S, R, mu = jfunc.get_vars(app_dir(surf_idx, bias_idx) + \"out\")\n",
    "    nk, nj = np.shape(E)\n",
    "    print(nj)\n",
    "    out = np.zeros([nj, len(Erange)])\n",
    "    band_vec = get_band_vector_plottable_nosmear(E, wk, nk, nj, out, Erange, dE)\n",
    "    \"\"\"\n",
    "    pcoops_list: 2d list\n",
    "    Erange: 1d range\n",
    "    titles_and_idcs_and_mu: [title, data i/j pair, mu]\n",
    "    \"\"\"\n",
    "    return band_vec, mu"
   ],
   "metadata": {
    "collapsed": false
   }
  },
  {
   "cell_type": "code",
   "execution_count": null,
   "outputs": [
    {
     "name": "stdout",
     "output_type": "stream",
     "text": [
      "150\n"
     ]
    },
    {
     "name": "stderr",
     "output_type": "stream",
     "text": [
      "C:\\Users\\User\\AppData\\Roaming\\Python\\Python310\\site-packages\\numba\\core\\ir_utils.py:2147: NumbaPendingDeprecationWarning: \u001B[1m\n",
      "Encountered the use of a type that is scheduled for deprecation: type 'reflected list' found for argument 'wk' of function 'get_band_vector_plottable_nosmear'.\n",
      "\n",
      "For more information visit https://numba.readthedocs.io/en/stable/reference/deprecation.html#deprecation-of-reflection-for-list-and-set-types\n",
      "\u001B[1m\n",
      "File \"..\\..\\..\\..\\..\\AppData\\Local\\Temp\\ipykernel_13224\\3915694250.py\", line 142:\u001B[0m\n",
      "\u001B[1m<source missing, REPL/exec in use?>\u001B[0m\n",
      "\u001B[0m\n",
      "  warnings.warn(NumbaPendingDeprecationWarning(msg, loc=loc))\n"
     ]
    },
    {
     "name": "stdout",
     "output_type": "stream",
     "text": [
      "1/30: 1.676\n",
      "150\n",
      "2/30: 0.569\n"
     ]
    }
   ],
   "source": [
    "surfs = 4\n",
    "dE = 0.01\n",
    "Erange = get_erange([0, 1, 2, 3], bidrange, dE)\n",
    "datum = []\n",
    "for i in range(surfs):\n",
    "    datum.append([])\n",
    "    for j in range(len(bias_labels)):\n",
    "        start = time.time()\n",
    "        datum[-1].append(system_bandwise_plottable(i, j - bshift, Erange, dE))\n",
    "        end = time.time()\n",
    "        elapsed = end - start\n",
    "        print(str(i*len(bias_labels) + j + 1) + \"/\" + str(2*len(bias_labels)) + \": \" + f'{elapsed:.{4}g}' )"
   ],
   "metadata": {
    "collapsed": false,
    "pycharm": {
     "is_executing": true
    }
   }
  },
  {
   "cell_type": "code",
   "execution_count": null,
   "outputs": [],
   "source": [
    "mus = []\n",
    "for bidx in range(len(bias_labels)):\n",
    "    mus.append(datum[0][bidx][1])\n",
    "nj = len(datum[0][0][0])\n",
    "ndatum = np.zeros([np.shape(datum)[0], len(bidrange), nj, len(Erange)])\n",
    "for sidx in range(surfs):\n",
    "    for bidx in range(len(bidrange)):\n",
    "        for j in range(nj):\n",
    "            ndatum[sidx, bidx, j] += np.real(datum[sidx][bidx][0][j])"
   ],
   "metadata": {
    "collapsed": false,
    "pycharm": {
     "is_executing": true
    }
   }
  },
  {
   "cell_type": "code",
   "execution_count": null,
   "outputs": [],
   "source": [
    "y_bounds = np.zeros([len(surf_labels), nj, 2])\n",
    "for sidx in range(surfs):\n",
    "    for j in range(nj):\n",
    "        miny = 0\n",
    "        maxy = 0\n",
    "        for bidx in range(len(bidrange)):\n",
    "            miny = min(miny, np.nanmin(ndatum[sidx][bidx][j]))\n",
    "            maxy = max(maxy, np.nanmax(ndatum[sidx][bidx][j]))\n",
    "        y_bounds[sidx, j, 0] += miny\n",
    "        y_bounds[sidx, j, 1] += maxy\n",
    "\n",
    "def saveplot(sidx, bidx, j, savedir):\n",
    "    y = get_plot_stuff(sidx, bidx, j, ndatum)\n",
    "    plt.figure(figsize=(10,5))\n",
    "    plt.plot(Erange, y)\n",
    "    plt.axvline(x=mus[bidx], color='red')\n",
    "    plt.title(gen_title(sidx, bidx, j))\n",
    "    yb = y_bounds[sidx, j]\n",
    "    plt.ylim(yb[0], yb[1])\n",
    "    plt.savefig(gen_savedirname(sidx, savedir) + gen_savename(sidx, bidx, j) + '.png')\n",
    "    plt.clf()"
   ],
   "metadata": {
    "collapsed": false,
    "pycharm": {
     "is_executing": true
    }
   }
  },
  {
   "cell_type": "code",
   "execution_count": null,
   "outputs": [],
   "source": [
    "sidx = 0\n",
    "setupdir(gen_savedirname(sidx, savedir))\n",
    "for bidx in range(len(bidrange)):\n",
    "    start = time.time()\n",
    "    for j in range(nj):\n",
    "        saveplot(sidx, bidx, j, savedir)\n",
    "    end = time.time()\n",
    "    elapsed = end - start\n",
    "    print(str(sidx*len(bidrange) + bidx + 1) + \"/\" + str(len(bidrange)*2) + \": \" + f'{elapsed:.{4}g}' + 'seconds')"
   ],
   "metadata": {
    "collapsed": false,
    "pycharm": {
     "is_executing": true
    }
   }
  },
  {
   "cell_type": "code",
   "execution_count": null,
   "outputs": [],
   "source": [
    "sidx = 1\n",
    "setupdir(gen_savedirname(sidx, savedir))\n",
    "for bidx in range(len(bidrange)):\n",
    "    start = time.time()\n",
    "    for j in range(nj):\n",
    "        saveplot(sidx, bidx, j, savedir)\n",
    "    end = time.time()\n",
    "    elapsed = end - start\n",
    "    print(str(sidx*len(bidrange) + bidx + 1) + \"/\" + str(len(bidrange)*2) + \": \" + f'{elapsed:.{4}g}' + 'seconds')"
   ],
   "metadata": {
    "collapsed": false,
    "pycharm": {
     "is_executing": true
    }
   }
  },
  {
   "cell_type": "code",
   "execution_count": null,
   "outputs": [],
   "source": [
    "sidx = 2\n",
    "setupdir(gen_savedirname(sidx, savedir))\n",
    "for bidx in range(len(bidrange)):\n",
    "    start = time.time()\n",
    "    for j in range(nj):\n",
    "        saveplot(sidx, bidx, j, savedir)\n",
    "    end = time.time()\n",
    "    elapsed = end - start\n",
    "    print(str(sidx*len(bidrange) + bidx + 1) + \"/\" + str(len(bidrange)*2) + \": \" + f'{elapsed:.{4}g}' + 'seconds')"
   ],
   "metadata": {
    "collapsed": false,
    "pycharm": {
     "is_executing": true
    }
   }
  },
  {
   "cell_type": "code",
   "execution_count": null,
   "outputs": [],
   "source": [
    "sidx = 1\n",
    "setupdir(gen_savedirname(sidx, savedir))\n",
    "for bidx in range(len(bidrange))[:int(len(bidrange)/2)]:\n",
    "    start = time.time()\n",
    "    for ai in range(natoms):\n",
    "        for aj in list(range(natoms))[ai:]:\n",
    "            ai_use = natoms - ai - 1\n",
    "            aj_use = natoms - aj - 1\n",
    "            saveplot(sidx, bidx, ai_use, aj_use, savedir)\n",
    "    end = time.time()\n",
    "    elapsed = end - start\n",
    "    print(str(sidx*len(bidrange) + bidx + 1) + \"/\" + str(len(bidrange)*2) + \": \" + f'{elapsed:.{4}g}' + 'seconds')"
   ],
   "metadata": {
    "collapsed": false,
    "pycharm": {
     "is_executing": true
    }
   }
  },
  {
   "cell_type": "code",
   "execution_count": null,
   "outputs": [],
   "source": [
    "sidx = 1\n",
    "setupdir(gen_savedirname(sidx, savedir))\n",
    "for bidx in range(len(bidrange))[int(len(bidrange)/2):]:\n",
    "    start = time.time()\n",
    "    for ai in range(natoms):\n",
    "        for aj in list(range(natoms))[ai:]:\n",
    "            ai_use = natoms - ai - 1\n",
    "            aj_use = natoms - aj - 1\n",
    "            saveplot(sidx, bidx, ai_use, aj_use, savedir)\n",
    "    end = time.time()\n",
    "    elapsed = end - start\n",
    "    print(str(sidx*len(bidrange) + bidx + 1) + \"/\" + str(len(bidrange)*2) + \": \" + f'{elapsed:.{4}g}' + 'seconds')"
   ],
   "metadata": {
    "collapsed": false
   }
  }
 ],
 "metadata": {
  "kernelspec": {
   "display_name": "Python 3",
   "language": "python",
   "name": "python3"
  },
  "language_info": {
   "codemirror_mode": {
    "name": "ipython",
    "version": 2
   },
   "file_extension": ".py",
   "mimetype": "text/x-python",
   "name": "python",
   "nbconvert_exporter": "python",
   "pygments_lexer": "ipython2",
   "version": "2.7.6"
  }
 },
 "nbformat": 4,
 "nbformat_minor": 0
}
