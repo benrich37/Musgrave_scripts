{
 "cells": [
  {
   "cell_type": "code",
   "execution_count": 1,
   "metadata": {
    "collapsed": true
   },
   "outputs": [],
   "source": [
    "import numpy as np\n",
    "import os\n",
    "import sys\n",
    "sys.path.append(\"C://Users//User//PycharmProjects//Musgrave_scripts//BenRich//common_funcs\")\n",
    "import cohpfuncs as cfunc\n",
    "import jdftxfuncs as jfunc\n",
    "import poscarclass as Poscar"
   ]
  },
  {
   "cell_type": "code",
   "execution_count": 2,
   "outputs": [],
   "source": [
    "test = Poscar.Poscar(\"D://data//aziz//BEAST//MN4C//pyridinic//backup//adsorbed//Pt//H//-1.00V//01//CONTCAR\")\n",
    "test.dump_jdftx_ionpos()\n",
    "test.dump_jdftx_lattice()"
   ],
   "metadata": {
    "collapsed": false
   }
  },
  {
   "cell_type": "code",
   "execution_count": 3,
   "outputs": [],
   "source": [
    "test = Poscar.Poscar(\"D://data//aziz//BEAST//MN4C//pyridinic//backup//adsorbed//Pt//H//0.00V//01//CONTCAR\")\n",
    "test.dump_jdftx_ionpos()\n",
    "test.dump_jdftx_lattice()"
   ],
   "metadata": {
    "collapsed": false
   }
  },
  {
   "cell_type": "code",
   "execution_count": 4,
   "outputs": [],
   "source": [
    "test = Poscar.Poscar(\"D://data//aziz//BEAST//MN4C//pyridinic//backup//adsorbed//Pt//H//No_bias//01//CONTCAR\")\n",
    "test.dump_jdftx_ionpos()\n",
    "test.dump_jdftx_lattice()"
   ],
   "metadata": {
    "collapsed": false
   }
  },
  {
   "cell_type": "code",
   "execution_count": 5,
   "outputs": [],
   "source": [
    "test = Poscar.Poscar(\"D://data//aziz//BEAST//MN4C//pyridinic//backup//adsorbed//Pt//H//-0.50V//01//CONTCAR\")\n",
    "test.dump_jdftx_ionpos()\n",
    "test.dump_jdftx_lattice()"
   ],
   "metadata": {
    "collapsed": false
   }
  },
  {
   "cell_type": "code",
   "execution_count": 20,
   "outputs": [],
   "source": [
    "in_checks = {\n",
    "    \"elec-cutoff\": [None, \"elec-cutoff 20 100\"],\n",
    "    \"elec-n-bands\": [None, \"elec-n-bands foo\"],\n",
    "    \"kpoint-folding\": [None, \"kpoint-folding 3 3 1\"],\n",
    "    \"target-mu\": [None, \"#target-mu foo\"],\n",
    "    \"latt-move-scale\": [None, \"latt-move-scale 0 0 0\"],\n",
    "    \"lattice-minimize\": [None, \"lattice-minimize nIterations 0\"],\n",
    "    \"ionic-minimize\": [None, \"ionic-minimize nIterations 0\"]\n",
    "}\n",
    "\n",
    "elec_checks = {\n",
    "    \"elec-ex-corr\": [None, \"elec-ex-corr gga\"],\n",
    "    \"van-der-waals\": [None, \"van-der-waals D3\"],\n",
    "    \"symmetries\": [None, \"symmetries none\" ],\n",
    "    \"electronic-minimize\": [None, \"electronic-minimize nIterations 100 energyDiffThreshold 1e-07\"],\n",
    "    \"elec-smearing\": [None, \"elec-smearing Fermi 0.001\"],\n",
    "    \"spintype\": [None, \"spintype z-spin\"],\n",
    "    \"core-overlap-check\": [None, \"core-overlap-check none\"],\n",
    "    \"elec-initial-magnetization\": [None, \"elec-initial-magnetization 0 no\"],\n",
    "    \"coulomb-interaction\": [None, \"coulomb-interaction slab 001\"],\n",
    "    \"converge-empty-states\": [None, \"converge-empty-states yes\"]\n",
    "}\n",
    "\n",
    "solv_checks = {\n",
    "    \"fluid\": [None, \"fluid LinearPCM\"],\n",
    "    \"pcm-variant\": [None, \"pcm-variant CANDLE\"],\n",
    "    \"fluid-solvent\": [None, \"fluid-solvent H2O\"],\n",
    "    \"fluid-cation\": [None, \"fluid-cation Na+ 0.5\" ],\n",
    "    \"fluid-anion\": [None, \"fluid-anion F- 0.5\"]\n",
    "}\n",
    "\n",
    "dump_checks = {\n",
    "    \"dsfg\": [None, \"dump End State\"],\n",
    "    \"dsf\": [None, \"dump End Ecomponents\"],\n",
    "    \"hgg\": [None, \"dump End EigStats\"],\n",
    "    \"ghtgh\": [None, \"dump End BandEigs\"],\n",
    "    \"gtgghf\": [None, \"dump End BandProjections\"],\n",
    "    \"gffgf\": [None, \"dump End Gvectors\"]\n",
    "}\n",
    "\n",
    "line_and_checks = {\n",
    "    \"in\": in_checks,\n",
    "    \"elec\": elec_checks,\n",
    "    \"solv\": solv_checks,\n",
    "    \"dump\": dump_checks\n",
    "}\n",
    "\n",
    "def read_inputs(fpath, line_and_checks):\n",
    "    check_keys = line_and_checks.keys()\n",
    "    with open(fpath, 'r') as f:\n",
    "        for line in f:\n",
    "            for check in check_keys:\n",
    "                if check in line:\n",
    "                    line_and_checks[check][0] = line\n",
    "    return line_and_checks\n",
    "\n",
    "def _get_param_dump_str(line_and_checks, key):\n",
    "    dump_str = \"\"\n",
    "    for input in line_and_checks[key].keys():\n",
    "        if line_and_checks[key][input][0] is None:\n",
    "            dump_str += line_and_checks[key][input][1] + \" \\n\"\n",
    "        else:\n",
    "            dump_str += line_and_checks[key][input][0] + \" \\n\"\n",
    "    return dump_str\n",
    "\n",
    "def write_params(data_path, line_and_checks, key):\n",
    "    dump_str = _get_param_dump_str(line_and_checks, key)\n",
    "    with open(data_path + \"params.\" + key, \"w\") as f:\n",
    "        f.write(dump_str)\n",
    "\n",
    "def write_all_params(data_path, line_and_checks):\n",
    "    for key in line_and_checks.keys():\n",
    "        if key != \"in\":\n",
    "            write_params(data_path, line_and_checks, key)\n",
    "\n",
    "\n",
    "def _get_in_dump_str(line_and_checks, poscar):\n",
    "    dump_str = \"dump-name output.$VAR \\n \\n \"\n",
    "    keys = line_and_checks[\"in\"].keys()\n",
    "    for key in keys:\n",
    "        if line_and_checks[\"in\"][key][0] is None:\n",
    "            dump_str += line_and_checks[\"in\"][key][1]\n",
    "        else:\n",
    "            dump_str += line_and_checks[\"in\"][key][0]\n",
    "    dump_str += \"\\n \\n\"\n",
    "    for atom in poscar.atom_names:\n",
    "        dump_str += \"ion-species GBRV/\" + atom.lower() + \"_pbe_v1.uspp\" + \"\\n\"\n",
    "    dump_str += \"include params.lattice \\n include params.ionpos \\n \\n\"\n",
    "    ins = line_and_checks.keys()\n",
    "    for key in ins:\n",
    "        if key != \"in\":\n",
    "            dump_str += \"include params.\" + key + \" \\n\"\n",
    "    return dump_str\n",
    "\n",
    "################################################################\n",
    "\n",
    "def gc_man_out_to_perl_in(data_path, line_and_checks, save_path = None):\n",
    "    if save_path is None:\n",
    "        save_path = data_path\n",
    "    poscar = Poscar.Poscar(data_path + \"CONTCAR\")\n",
    "    inpath = data_path + \"inputs\"\n",
    "    for check in line_and_checks.keys():\n",
    "        line_and_checks[check] = read_inputs(inpath, line_and_checks[check])\n",
    "    with open(save_path + \"in\", 'w') as f:\n",
    "        f.write(_get_in_dump_str(line_and_checks, poscar))\n",
    "    write_all_params(save_path, line_and_checks)\n",
    "\n",
    "def _get_submit_dump_str():\n",
    "    dump_str = \"\"\n",
    "    dump_str += \"#!/bin/bash \\n\"\n",
    "    dump_str += \"#SBATCH -J jobnamevar \\n\"\n",
    "    dump_str += \"#SBATCH -A m4025_g \\n\"\n",
    "    dump_str += \"#SBATCH -C gpu \\n\"\n",
    "    dump_str += \"#SBATCH -q regular_ss11 \\n\"\n",
    "    dump_str += \"#SBATCH -t 15:00 \\n\"\n",
    "    dump_str += \"#SBATCH -N 1 \\n#SBATCH -n 2 \\n#SBATCH --ntasks-per-node=2 \\n#SBATCH -c 32 \\n#SBATCH --gpus-per-task=1 \\n#SBATCH --gpu-bind=none \\n#SBATCH -o %j.out \\n#SBATCH -e %j.err \\n \\n\"\n",
    "    dump_str += \"module use /global/homes/b/beri9208/modules \\nmodule load jdftx/gpu \\n \\n\"\n",
    "    dump_str += \"export SLURM_CPU_BIND=\\\"cores\\\" \\nexport JDFTX_MEMPOOL_SIZE=8192 \\n \\nsrun jdftx_gpu -i in -o out \\n\"\n",
    "    return dump_str\n",
    "\n",
    "def write_submit(data_path):\n",
    "    dump_str = _get_submit_dump_str()\n",
    "    with open(data_path + \"submit.sh\", \"w\", newline='\\n') as f:\n",
    "        f.write(dump_str)"
   ],
   "metadata": {
    "collapsed": false
   }
  },
  {
   "cell_type": "code",
   "execution_count": 22,
   "outputs": [],
   "source": [
    "biases = [\"No_bias\", \"0.00V\", \"-0.50V\", \"-1.00V\"]\n",
    "elmts = [\"Fe\", \"Ni\", \"Y\", \"Zn\", \"Pt\"]\n",
    "for e in elmts:\n",
    "    for b in biases:\n",
    "        data_path = \"D://data//aziz//BEAST//MN4C//pyridinic//backup//adsorbed//\" + e + \"//H//\" + b + \"//01//\"\n",
    "        save_path = \"E://perl//pscratch//beri9208//HydrideTest//AzizStruc//No_opt_psuedo_v1//\" + e + \"//\" + b + \"//\"\n",
    "        poscar = Poscar.Poscar(data_path + \"CONTCAR\")\n",
    "        poscar.dump_jdftx_ionpos()\n",
    "        poscar.dump_jdftx_lattice()\n",
    "        gc_man_out_to_perl_in(data_path, line_and_checks, save_path=save_path)\n",
    "        write_submit(save_path)"
   ],
   "metadata": {
    "collapsed": false
   }
  },
  {
   "cell_type": "code",
   "execution_count": null,
   "outputs": [],
   "source": [
    "elmts = [[\"H\", \"He\"],\n",
    "         [\"Li\", \"Be\", \"B\", \"C\", \"N\", \"O\", \"F\", \"Ne\"],\n",
    "         [\"Na\", \"Mg\", \"Al\", \"Si\", \"P\", \"S\", \"Cl\", \"Ar\"],\n",
    "         [\"K\", \"Ca\", \"Sc\", \"Ti\", \"V\", \"Cr\", \"Mn\", \"Fe\", \"Co\", \"Ni\", \"Cu\", \"Zn\", \"Ga\", \"Ge\", \"As\", \"Se\", \"Br\", \"Kr\"],\n",
    "         [\"Rb\", \"Sr\", \"Y\", \"Zr\", \"Nb\", \"Mo\", \"Tc\", \"Ru\", \"Rh\", \"Pd\", \"Ag\", \"Cd\", \"In\", \"Sn\", \"Sb\", \"Te\", \"I\", \"Xe\"],\n",
    "         ]\n",
    "\n",
    "\n",
    "\n",
    "\n"
   ],
   "metadata": {
    "collapsed": false
   }
  },
  {
   "cell_type": "code",
   "execution_count": 7,
   "outputs": [
    {
     "data": {
      "text/plain": "'c'"
     },
     "execution_count": 7,
     "metadata": {},
     "output_type": "execute_result"
    }
   ],
   "source": [
    "test.atom_names[0].lower()"
   ],
   "metadata": {
    "collapsed": false
   }
  },
  {
   "cell_type": "code",
   "execution_count": null,
   "outputs": [],
   "source": [],
   "metadata": {
    "collapsed": false
   }
  }
 ],
 "metadata": {
  "kernelspec": {
   "display_name": "Python 3",
   "language": "python",
   "name": "python3"
  },
  "language_info": {
   "codemirror_mode": {
    "name": "ipython",
    "version": 2
   },
   "file_extension": ".py",
   "mimetype": "text/x-python",
   "name": "python",
   "nbconvert_exporter": "python",
   "pygments_lexer": "ipython2",
   "version": "2.7.6"
  }
 },
 "nbformat": 4,
 "nbformat_minor": 0
}
