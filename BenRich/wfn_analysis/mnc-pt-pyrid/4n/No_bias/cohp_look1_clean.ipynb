{
 "cells": [
  {
   "cell_type": "code",
   "execution_count": 1,
   "metadata": {
    "collapsed": true
   },
   "outputs": [],
   "source": [
    "import os\n",
    "os.chdir('D://scratch_backup//perl//alpine_reprocess//mnc-pt-pyrid//calcs//surfs//4n//No_bias')\n",
    "import sys\n",
    "sys.path.append('C://Users//User//PycharmProjects//Musgrave_scripts//BenRich//common_funcs//')\n",
    "import numpy as np\n",
    "import jdftxfuncs as jfunc\n",
    "import cohpfuncs as cfunc\n",
    "import matplotlib.pyplot as plt"
   ]
  },
  {
   "cell_type": "code",
   "execution_count": 2,
   "outputs": [
    {
     "name": "stdout",
     "output_type": "stream",
     "text": [
      "pCOHP_uv(orb u index, orb v index) -> pCOHP_uv(E) array, E array\n"
     ]
    }
   ],
   "source": [
    "bandfile='bandProjections'\n",
    "gvecfile='Gvectors'\n",
    "eigfile='eigenvals'\n",
    "outfile='out'\n",
    "proj, nStates, nBands, nProj, nOrbsPerAtom, wk, k_points, E = cfunc.parse_data(bandfile, gvecfile, eigfile, guts=False)\n",
    "T_ijk, P_uvjk, e_jk = cfunc.prepare_small_funcs(proj, E)\n",
    "pCOHP_uv, pCOHP_uv_u, H_atomic_matrix = cfunc.prepare_large_funcs(e_jk,P_uvjk,nBands,nStates,wk,k_points,guts=False,docuprint=True)"
   ],
   "metadata": {
    "collapsed": false
   }
  },
  {
   "cell_type": "code",
   "execution_count": 3,
   "outputs": [],
   "source": [
    "orbs_dict = cfunc.orbs_idx_dict(outfile, nOrbsPerAtom)\n",
    "orbsN1 = orbs_dict['N #1']\n",
    "# Orbitals for carbons bonded to N #1\n",
    "orbsCbN1 = orbs_dict['C #29'] + orbs_dict['C #33']\n",
    "orbsPt = orbs_dict['Pt #1']"
   ],
   "metadata": {
    "collapsed": false
   }
  },
  {
   "cell_type": "code",
   "execution_count": null,
   "outputs": [],
   "source": [
    "N1CbN1pCOHP"
   ],
   "metadata": {
    "collapsed": false
   }
  }
 ],
 "metadata": {
  "kernelspec": {
   "display_name": "Python 3",
   "language": "python",
   "name": "python3"
  },
  "language_info": {
   "codemirror_mode": {
    "name": "ipython",
    "version": 2
   },
   "file_extension": ".py",
   "mimetype": "text/x-python",
   "name": "python",
   "nbconvert_exporter": "python",
   "pygments_lexer": "ipython2",
   "version": "2.7.6"
  }
 },
 "nbformat": 4,
 "nbformat_minor": 0
}
