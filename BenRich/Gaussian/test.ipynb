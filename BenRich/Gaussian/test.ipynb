{
 "cells": [
  {
   "cell_type": "code",
   "execution_count": 1,
   "metadata": {
    "collapsed": true
   },
   "outputs": [],
   "source": [
    "import numpy as np"
   ]
  },
  {
   "cell_type": "code",
   "execution_count": 133,
   "outputs": [],
   "source": [
    "def logToXyz(filename, outname='test', memreq = None, procreq = None):\n",
    "    file_lines = []\n",
    "    # file = open(filename)\n",
    "    # for line in file:\n",
    "    #     file_lines.append(line).rstrip('\\n')\n",
    "    with open(filename) as file:\n",
    "        for line in file:\n",
    "            file_lines.append(line.rstrip('\\n').lstrip(' '))\n",
    "    geom_out_idcs = []\n",
    "    geom_out_lines = []\n",
    "    str_out_idcs = []\n",
    "    star_idcs = []\n",
    "    for i, line in enumerate(file_lines):\n",
    "        if 'Coordinates (Angstroms)' in line:\n",
    "            geom_out_idcs.append(i)\n",
    "            geom_out_lines.append(line)\n",
    "        if 'N-N' in line:\n",
    "            str_out_idcs.append(i)\n",
    "        if '************************************' in line:\n",
    "            star_idcs.append(i)\n",
    "    last_geom_out_start = max(geom_out_idcs)\n",
    "    last_geom_out_end = None\n",
    "    for i, line in enumerate(file_lines):\n",
    "        if 'Rotational constants' in line:\n",
    "            last_geom_out_end = i\n",
    "    assert last_geom_out_end is not None\n",
    "    xyz_lines = []\n",
    "    for line in file_lines[last_geom_out_start+3:last_geom_out_end-1]:\n",
    "        line_split = line.split(' ')\n",
    "        line_split_clean = []\n",
    "        for el in line_split:\n",
    "            if len(el) > 0:\n",
    "                line_split_clean.append(el)\n",
    "        xyz_lines.append([line_split_clean[1], line_split_clean[3], line_split_clean[4], line_split_clean[5]])\n",
    "    last_split = max(str_out_idcs)\n",
    "    for i, line in enumerate(file_lines[last_split:]):\n",
    "        if '\\\\@' in line:\n",
    "            end_str_dum_idx = i\n",
    "    str_dump = file_lines[last_split:last_split+end_str_dum_idx+1]\n",
    "    for i, el in enumerate(str_dump):\n",
    "        if '#' in el:\n",
    "            input_line = el\n",
    "            input_idx = i\n",
    "    user_input = input_line[input_line.index('#'):(input_line.index('#') + input_line[input_line.index('#'):].index('\\\\'))]\n",
    "    slash_idcs = []\n",
    "    for i, s in enumerate(input_line):\n",
    "        if s == '\\\\':\n",
    "            slash_idcs.append(i)\n",
    "    title_card = input_line[max(slash_idcs)+1:]\n",
    "    mem_line = None\n",
    "    proc_line = None\n",
    "    for line in file_lines[min(star_idcs):min(star_idcs)+10]:\n",
    "        if '%mem' in line:\n",
    "            mem_line = line\n",
    "        if '%nprocshared' in line.lower() or '%nproc' in line.lower():\n",
    "            proc_line = line\n",
    "    save_str = ''\n",
    "    save_str += '%chk=' + outname + '.chk \\n'\n",
    "    if mem_line is not None:\n",
    "        save_str += mem_line + ' \\n'\n",
    "    else:\n",
    "        if memreq is not None:\n",
    "            save_str += '%mem=' + memreq + 'GB \\n'\n",
    "    if proc_line is not None:\n",
    "        save_str += proc_line + ' \\n'\n",
    "    else:\n",
    "        if procreq is not None:\n",
    "            str_dump += '%NProcShared=' + procreq + ' \\n'\n",
    "    save_str += user_input + ' \\n'\n",
    "    save_str += ' \\n'\n",
    "    save_str += title_card + ' \\n'\n",
    "    for line in str_dump[input_idx+1].split('\\\\'):\n",
    "        if len(line.split(',')) == 2:\n",
    "            ismult = True\n",
    "            for num in line.split(','):\n",
    "                if abs(eval(num) - int(eval(num))) == 0:\n",
    "                    ismult = ismult and True\n",
    "            if ismult:\n",
    "                mult_line = line\n",
    "    save_str += ' \\n'\n",
    "    save_str += mult_line + ' \\n'\n",
    "    for line in xyz_lines:\n",
    "        save_str += line[0]\n",
    "        save_str += '        '\n",
    "        save_str += line[1] + '     '\n",
    "        save_str += line[2] + '     '\n",
    "        save_str += line[3] + ' \\n'\n",
    "    save_str += ' \\n'\n",
    "    dump = open(outname + '.gjf', 'w')\n",
    "    dump.write(save_str)\n",
    "    dump.close()\n",
    "    #return 'Abelian' in file_lines[:]"
   ],
   "metadata": {
    "collapsed": false
   }
  },
  {
   "cell_type": "code",
   "execution_count": 134,
   "outputs": [],
   "source": [
    "logToXyz('c1.log')"
   ],
   "metadata": {
    "collapsed": false
   }
  },
  {
   "cell_type": "code",
   "execution_count": 114,
   "outputs": [
    {
     "data": {
      "text/plain": "0.1299999999999999"
     },
     "execution_count": 114,
     "metadata": {},
     "output_type": "execute_result"
    }
   ],
   "source": [
    "eval('2.13') - int(eval('2.13'))"
   ],
   "metadata": {
    "collapsed": false
   }
  },
  {
   "cell_type": "code",
   "execution_count": 57,
   "outputs": [
    {
     "name": "stdout",
     "output_type": "stream",
     "text": [
      " N-N= 6.427786114784D+02 E-N=-2.812372013976D+03  KE= 6.411043503401D+02\n",
      " N-N= 6.494538031797D+02 E-N=-2.825884687323D+03  KE= 6.414247356786D+02\n"
     ]
    }
   ],
   "source": [
    "for line in open('c1.log'):\n",
    "    if 'N-N' in line:\n",
    "        print(line.rstrip('\\n'))"
   ],
   "metadata": {
    "collapsed": false
   }
  },
  {
   "cell_type": "code",
   "execution_count": null,
   "outputs": [],
   "source": [],
   "metadata": {
    "collapsed": false
   }
  }
 ],
 "metadata": {
  "kernelspec": {
   "display_name": "Python 3",
   "language": "python",
   "name": "python3"
  },
  "language_info": {
   "codemirror_mode": {
    "name": "ipython",
    "version": 2
   },
   "file_extension": ".py",
   "mimetype": "text/x-python",
   "name": "python",
   "nbconvert_exporter": "python",
   "pygments_lexer": "ipython2",
   "version": "2.7.6"
  }
 },
 "nbformat": 4,
 "nbformat_minor": 0
}
